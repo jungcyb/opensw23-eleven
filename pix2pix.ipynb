{
 "cells": [
  {
   "attachments": {},
   "cell_type": "markdown",
   "metadata": {
    "colab_type": "text",
    "id": "view-in-github"
   },
   "source": [
    "<a href=\"https://colab.research.google.com/github/bkkaggle/pytorch-CycleGAN-and-pix2pix/blob/master/pix2pix.ipynb\" target=\"_parent\"><img src=\"https://colab.research.google.com/assets/colab-badge.svg\" alt=\"Open In Colab\"/></a>"
   ]
  },
  {
   "attachments": {},
   "cell_type": "markdown",
   "metadata": {
    "colab_type": "text",
    "id": "7wNjDKdQy35h"
   },
   "source": [
    "# Install"
   ]
  },
  {
   "cell_type": "code",
   "execution_count": 5,
   "metadata": {
    "colab": {},
    "colab_type": "code",
    "id": "z1EySlOXwwoa"
   },
   "outputs": [
    {
     "name": "stdout",
     "output_type": "stream",
     "text": [
      "^C\n"
     ]
    },
    {
     "name": "stdout",
     "output_type": "stream",
     "text": [
      "Collecting torch>=1.4.0 (from -r pytorch-CycleGAN-and-pix2pix-master/requirements.txt (line 1))\n",
      "  Using cached torch-2.0.1-cp310-cp310-win_amd64.whl (172.3 MB)\n",
      "Collecting torchvision>=0.5.0 (from -r pytorch-CycleGAN-and-pix2pix-master/requirements.txt (line 2))\n",
      "  Using cached torchvision-0.15.2-cp310-cp310-win_amd64.whl (1.2 MB)\n",
      "Collecting dominate>=2.4.0 (from -r pytorch-CycleGAN-and-pix2pix-master/requirements.txt (line 3))\n",
      "  Using cached dominate-2.8.0-py2.py3-none-any.whl (29 kB)\n",
      "Collecting visdom>=0.1.8.8 (from -r pytorch-CycleGAN-and-pix2pix-master/requirements.txt (line 4))\n",
      "  Using cached visdom-0.2.4.tar.gz (1.4 MB)\n",
      "  Installing build dependencies: started\n",
      "  Installing build dependencies: finished with status 'done'\n",
      "  Getting requirements to build wheel: started\n",
      "  Getting requirements to build wheel: finished with status 'done'\n",
      "  Preparing metadata (pyproject.toml): started\n",
      "  Preparing metadata (pyproject.toml): finished with status 'done'\n",
      "Collecting wandb (from -r pytorch-CycleGAN-and-pix2pix-master/requirements.txt (line 5))\n",
      "  Using cached wandb-0.15.3-py3-none-any.whl (2.0 MB)\n",
      "Collecting filelock (from torch>=1.4.0->-r pytorch-CycleGAN-and-pix2pix-master/requirements.txt (line 1))\n",
      "  Using cached filelock-3.12.0-py3-none-any.whl (10 kB)\n",
      "Collecting typing-extensions (from torch>=1.4.0->-r pytorch-CycleGAN-and-pix2pix-master/requirements.txt (line 1))\n",
      "  Using cached typing_extensions-4.6.2-py3-none-any.whl (31 kB)\n",
      "Collecting sympy (from torch>=1.4.0->-r pytorch-CycleGAN-and-pix2pix-master/requirements.txt (line 1))\n",
      "  Using cached sympy-1.12-py3-none-any.whl (5.7 MB)\n",
      "Collecting networkx (from torch>=1.4.0->-r pytorch-CycleGAN-and-pix2pix-master/requirements.txt (line 1))\n",
      "  Using cached networkx-3.1-py3-none-any.whl (2.1 MB)\n",
      "Collecting jinja2 (from torch>=1.4.0->-r pytorch-CycleGAN-and-pix2pix-master/requirements.txt (line 1))\n",
      "  Using cached Jinja2-3.1.2-py3-none-any.whl (133 kB)\n",
      "Requirement already satisfied: numpy in c:\\users\\10133\\appdata\\local\\packages\\pythonsoftwarefoundation.python.3.10_qbz5n2kfra8p0\\localcache\\local-packages\\python310\\site-packages (from torchvision>=0.5.0->-r pytorch-CycleGAN-and-pix2pix-master/requirements.txt (line 2)) (1.24.3)\n",
      "Collecting requests (from torchvision>=0.5.0->-r pytorch-CycleGAN-and-pix2pix-master/requirements.txt (line 2))\n",
      "  Using cached requests-2.31.0-py3-none-any.whl (62 kB)\n",
      "Requirement already satisfied: pillow!=8.3.*,>=5.3.0 in c:\\users\\10133\\appdata\\local\\packages\\pythonsoftwarefoundation.python.3.10_qbz5n2kfra8p0\\localcache\\local-packages\\python310\\site-packages (from torchvision>=0.5.0->-r pytorch-CycleGAN-and-pix2pix-master/requirements.txt (line 2)) (9.5.0)\n",
      "Requirement already satisfied: scipy in c:\\users\\10133\\appdata\\local\\packages\\pythonsoftwarefoundation.python.3.10_qbz5n2kfra8p0\\localcache\\local-packages\\python310\\site-packages (from visdom>=0.1.8.8->-r pytorch-CycleGAN-and-pix2pix-master/requirements.txt (line 4)) (1.10.1)\n",
      "Requirement already satisfied: tornado in c:\\users\\10133\\appdata\\local\\packages\\pythonsoftwarefoundation.python.3.10_qbz5n2kfra8p0\\localcache\\local-packages\\python310\\site-packages (from visdom>=0.1.8.8->-r pytorch-CycleGAN-and-pix2pix-master/requirements.txt (line 4)) (6.3.2)\n",
      "Requirement already satisfied: six in c:\\users\\10133\\appdata\\local\\packages\\pythonsoftwarefoundation.python.3.10_qbz5n2kfra8p0\\localcache\\local-packages\\python310\\site-packages (from visdom>=0.1.8.8->-r pytorch-CycleGAN-and-pix2pix-master/requirements.txt (line 4)) (1.16.0)\n",
      "Collecting jsonpatch (from visdom>=0.1.8.8->-r pytorch-CycleGAN-and-pix2pix-master/requirements.txt (line 4))\n",
      "  Using cached jsonpatch-1.32-py2.py3-none-any.whl (12 kB)\n",
      "Collecting websocket-client (from visdom>=0.1.8.8->-r pytorch-CycleGAN-and-pix2pix-master/requirements.txt (line 4))\n",
      "  Using cached websocket_client-1.5.2-py3-none-any.whl (56 kB)\n",
      "Collecting Click!=8.0.0,>=7.0 (from wandb->-r pytorch-CycleGAN-and-pix2pix-master/requirements.txt (line 5))\n",
      "  Using cached click-8.1.3-py3-none-any.whl (96 kB)\n",
      "Collecting GitPython!=3.1.29,>=1.0.0 (from wandb->-r pytorch-CycleGAN-and-pix2pix-master/requirements.txt (line 5))\n",
      "  Using cached GitPython-3.1.31-py3-none-any.whl (184 kB)\n",
      "Requirement already satisfied: psutil>=5.0.0 in c:\\users\\10133\\appdata\\local\\packages\\pythonsoftwarefoundation.python.3.10_qbz5n2kfra8p0\\localcache\\local-packages\\python310\\site-packages (from wandb->-r pytorch-CycleGAN-and-pix2pix-master/requirements.txt (line 5)) (5.9.5)\n",
      "Collecting sentry-sdk>=1.0.0 (from wandb->-r pytorch-CycleGAN-and-pix2pix-master/requirements.txt (line 5))\n",
      "  Using cached sentry_sdk-1.24.0-py2.py3-none-any.whl (206 kB)\n",
      "Collecting docker-pycreds>=0.4.0 (from wandb->-r pytorch-CycleGAN-and-pix2pix-master/requirements.txt (line 5))\n",
      "  Using cached docker_pycreds-0.4.0-py2.py3-none-any.whl (9.0 kB)\n",
      "Collecting PyYAML (from wandb->-r pytorch-CycleGAN-and-pix2pix-master/requirements.txt (line 5))\n",
      "  Using cached PyYAML-6.0-cp310-cp310-win_amd64.whl (151 kB)\n",
      "Collecting pathtools (from wandb->-r pytorch-CycleGAN-and-pix2pix-master/requirements.txt (line 5))\n",
      "  Using cached pathtools-0.1.2.tar.gz (11 kB)\n",
      "  Installing build dependencies: started\n",
      "  Installing build dependencies: finished with status 'done'\n",
      "  Getting requirements to build wheel: started\n",
      "  Getting requirements to build wheel: finished with status 'done'\n",
      "  Preparing metadata (pyproject.toml): started\n",
      "  Preparing metadata (pyproject.toml): finished with status 'done'\n",
      "Collecting setproctitle (from wandb->-r pytorch-CycleGAN-and-pix2pix-master/requirements.txt (line 5))\n",
      "  Downloading setproctitle-1.3.2-cp310-cp310-win_amd64.whl (11 kB)\n",
      "Requirement already satisfied: setuptools in c:\\program files\\windowsapps\\pythonsoftwarefoundation.python.3.10_3.10.3056.0_x64__qbz5n2kfra8p0\\lib\\site-packages (from wandb->-r pytorch-CycleGAN-and-pix2pix-master/requirements.txt (line 5)) (65.5.0)\n",
      "Collecting appdirs>=1.4.3 (from wandb->-r pytorch-CycleGAN-and-pix2pix-master/requirements.txt (line 5))\n",
      "  Downloading appdirs-1.4.4-py2.py3-none-any.whl (9.6 kB)\n",
      "Collecting protobuf!=4.21.0,<5,>=3.19.0 (from wandb->-r pytorch-CycleGAN-and-pix2pix-master/requirements.txt (line 5))\n",
      "  Downloading protobuf-4.23.2-cp310-abi3-win_amd64.whl (422 kB)\n",
      "                                              0.0/422.5 kB ? eta -:--:--\n",
      "     ---                                   41.0/422.5 kB 960.0 kB/s eta 0:00:01\n",
      "     ------                                  71.7/422.5 kB 1.3 MB/s eta 0:00:01\n",
      "     -----------------                      194.6/422.5 kB 1.7 MB/s eta 0:00:01\n",
      "     ------------------------------         337.9/422.5 kB 2.1 MB/s eta 0:00:01\n",
      "     -------------------------------------  419.8/422.5 kB 2.0 MB/s eta 0:00:01\n",
      "     -------------------------------------- 422.5/422.5 kB 1.6 MB/s eta 0:00:00\n",
      "Requirement already satisfied: colorama in c:\\users\\10133\\appdata\\local\\packages\\pythonsoftwarefoundation.python.3.10_qbz5n2kfra8p0\\localcache\\local-packages\\python310\\site-packages (from Click!=8.0.0,>=7.0->wandb->-r pytorch-CycleGAN-and-pix2pix-master/requirements.txt (line 5)) (0.4.6)\n",
      "Collecting gitdb<5,>=4.0.1 (from GitPython!=3.1.29,>=1.0.0->wandb->-r pytorch-CycleGAN-and-pix2pix-master/requirements.txt (line 5))\n",
      "  Downloading gitdb-4.0.10-py3-none-any.whl (62 kB)\n",
      "                                              0.0/62.7 kB ? eta -:--:--\n",
      "     ---------------------------------------- 62.7/62.7 kB 1.7 MB/s eta 0:00:00\n",
      "Requirement already satisfied: charset-normalizer<4,>=2 in c:\\users\\10133\\appdata\\local\\packages\\pythonsoftwarefoundation.python.3.10_qbz5n2kfra8p0\\localcache\\local-packages\\python310\\site-packages (from requests->torchvision>=0.5.0->-r pytorch-CycleGAN-and-pix2pix-master/requirements.txt (line 2)) (3.1.0)\n",
      "Requirement already satisfied: idna<4,>=2.5 in c:\\users\\10133\\appdata\\local\\packages\\pythonsoftwarefoundation.python.3.10_qbz5n2kfra8p0\\localcache\\local-packages\\python310\\site-packages (from requests->torchvision>=0.5.0->-r pytorch-CycleGAN-and-pix2pix-master/requirements.txt (line 2)) (3.4)\n",
      "Collecting urllib3<3,>=1.21.1 (from requests->torchvision>=0.5.0->-r pytorch-CycleGAN-and-pix2pix-master/requirements.txt (line 2))\n",
      "  Downloading urllib3-2.0.2-py3-none-any.whl (123 kB)\n",
      "                                              0.0/123.2 kB ? eta -:--:--\n",
      "     -------------------------------------  122.9/123.2 kB 3.6 MB/s eta 0:00:01\n",
      "     -------------------------------------- 123.2/123.2 kB 2.5 MB/s eta 0:00:00\n",
      "Collecting certifi>=2017.4.17 (from requests->torchvision>=0.5.0->-r pytorch-CycleGAN-and-pix2pix-master/requirements.txt (line 2))\n",
      "  Downloading certifi-2023.5.7-py3-none-any.whl (156 kB)\n",
      "                                              0.0/157.0 kB ? eta -:--:--\n",
      "     -------------------------------------  153.6/157.0 kB 4.6 MB/s eta 0:00:01\n",
      "     -------------------------------------- 157.0/157.0 kB 1.9 MB/s eta 0:00:00\n",
      "Collecting urllib3<3,>=1.21.1 (from requests->torchvision>=0.5.0->-r pytorch-CycleGAN-and-pix2pix-master/requirements.txt (line 2))\n",
      "  Downloading urllib3-1.26.16-py2.py3-none-any.whl (143 kB)\n",
      "                                              0.0/143.1 kB ? eta -:--:--\n",
      "     -----------------------------------    133.1/143.1 kB 7.7 MB/s eta 0:00:01\n",
      "     -------------------------------------- 143.1/143.1 kB 1.7 MB/s eta 0:00:00\n",
      "Collecting MarkupSafe>=2.0 (from jinja2->torch>=1.4.0->-r pytorch-CycleGAN-and-pix2pix-master/requirements.txt (line 1))\n",
      "  Downloading MarkupSafe-2.1.2-cp310-cp310-win_amd64.whl (16 kB)\n",
      "Collecting jsonpointer>=1.9 (from jsonpatch->visdom>=0.1.8.8->-r pytorch-CycleGAN-and-pix2pix-master/requirements.txt (line 4))\n",
      "  Using cached jsonpointer-2.3-py2.py3-none-any.whl (7.8 kB)\n",
      "Collecting mpmath>=0.19 (from sympy->torch>=1.4.0->-r pytorch-CycleGAN-and-pix2pix-master/requirements.txt (line 1))\n",
      "  Downloading mpmath-1.3.0-py3-none-any.whl (536 kB)\n",
      "                                              0.0/536.2 kB ? eta -:--:--\n",
      "     ---------------                       225.3/536.2 kB 14.3 MB/s eta 0:00:01\n",
      "     ---------------                       225.3/536.2 kB 14.3 MB/s eta 0:00:01\n",
      "     ---------------                       225.3/536.2 kB 14.3 MB/s eta 0:00:01\n",
      "     ---------------------------            389.1/536.2 kB 2.2 MB/s eta 0:00:01\n",
      "     -------------------------------        440.3/536.2 kB 2.3 MB/s eta 0:00:01\n",
      "     -------------------------------        440.3/536.2 kB 2.3 MB/s eta 0:00:01\n",
      "     -------------------------------        440.3/536.2 kB 2.3 MB/s eta 0:00:01\n",
      "     -------------------------------------- 536.2/536.2 kB 1.6 MB/s eta 0:00:00\n",
      "Collecting smmap<6,>=3.0.1 (from gitdb<5,>=4.0.1->GitPython!=3.1.29,>=1.0.0->wandb->-r pytorch-CycleGAN-and-pix2pix-master/requirements.txt (line 5))\n",
      "  Downloading smmap-5.0.0-py3-none-any.whl (24 kB)\n",
      "Building wheels for collected packages: visdom, pathtools\n",
      "  Building wheel for visdom (pyproject.toml): started\n",
      "  Building wheel for visdom (pyproject.toml): finished with status 'done'\n",
      "  Created wheel for visdom: filename=visdom-0.2.4-py3-none-any.whl size=1408311 sha256=dff1f947260ec0870b96e3425d57e12a0b9ffbca460e4c673fe82f0ce2004cc0\n",
      "  Stored in directory: c:\\users\\10133\\appdata\\local\\pip\\cache\\wheels\\42\\29\\49\\5bed207bac4578e4d2c0c5fc0226bfd33a7e2953ea56356855\n",
      "  Building wheel for pathtools (pyproject.toml): started\n",
      "  Building wheel for pathtools (pyproject.toml): finished with status 'done'\n",
      "  Created wheel for pathtools: filename=pathtools-0.1.2-py3-none-any.whl size=8803 sha256=af67a80d470ad1c69b1a6bf7c3536419ba744e54af42265a0a090bd14c5fed6d\n",
      "  Stored in directory: c:\\users\\10133\\appdata\\local\\pip\\cache\\wheels\\e7\\f3\\22\\152153d6eb222ee7a56ff8617d80ee5207207a8c00a7aab794\n",
      "Successfully built visdom pathtools\n",
      "Installing collected packages: pathtools, mpmath, appdirs, websocket-client, urllib3, typing-extensions, sympy, smmap, setproctitle, PyYAML, protobuf, networkx, MarkupSafe, jsonpointer, filelock, dominate, docker-pycreds, Click, certifi, sentry-sdk, requests, jsonpatch, jinja2, gitdb, visdom, torch, GitPython, wandb, torchvision\n",
      "Successfully installed Click-8.1.3 GitPython-3.1.31 MarkupSafe-2.1.2 PyYAML-6.0 appdirs-1.4.4 certifi-2023.5.7 docker-pycreds-0.4.0 dominate-2.8.0 filelock-3.12.0 gitdb-4.0.10 jinja2-3.1.2 jsonpatch-1.32 jsonpointer-2.3 mpmath-1.3.0 networkx-3.1 pathtools-0.1.2 protobuf-4.23.2 requests-2.31.0 sentry-sdk-1.24.0 setproctitle-1.3.2 smmap-5.0.0 sympy-1.12 torch-2.0.1 torchvision-0.15.2 typing-extensions-4.6.2 urllib3-1.26.16 visdom-0.2.4 wandb-0.15.3 websocket-client-1.5.2\n"
     ]
    },
    {
     "name": "stderr",
     "output_type": "stream",
     "text": [
      "\n",
      "[notice] A new release of pip is available: 23.1.1 -> 23.1.2\n",
      "[notice] To update, run: C:\\Users\\10133\\AppData\\Local\\Microsoft\\WindowsApps\\PythonSoftwareFoundation.Python.3.10_qbz5n2kfra8p0\\python.exe -m pip install --upgrade pip\n"
     ]
    }
   ],
   "source": [
    "!pip install -r pytorch-CycleGAN-and-pix2pix-master/requirements.txt"
   ]
  },
  {
   "attachments": {},
   "cell_type": "markdown",
   "metadata": {
    "colab_type": "text",
    "id": "9UkcaFZiyASl"
   },
   "source": [
    "# Testing\n",
    "\n",
    "-   `python test.py --dataroot ./datasets/facades --direction BtoA --model pix2pix --name facades_pix2pix`\n",
    "\n",
    "Change the `--dataroot`, `--name`, and `--direction` to be consistent with your trained model's configuration and how you want to transform images.\n",
    "\n",
    "> from https://github.com/junyanz/pytorch-CycleGAN-and-pix2pix:\n",
    "> Note that we specified --direction BtoA as Facades dataset's A to B direction is photos to labels.\n",
    "\n",
    "> If you would like to apply a pre-trained model to a collection of input images (rather than image pairs), please use --model test option. See ./scripts/test_single.sh for how to apply a model to Facade label maps (stored in the directory facades/testB).\n",
    "\n",
    "> See a list of currently available models at ./scripts/download_pix2pix_model.sh"
   ]
  },
  {
   "cell_type": "code",
   "execution_count": 11,
   "metadata": {
    "colab": {},
    "colab_type": "code",
    "id": "uCsKkEq0yGh0"
   },
   "outputs": [
    {
     "name": "stdout",
     "output_type": "stream",
     "text": [
      "----------------- Options ---------------\n",
      "             aspect_ratio: 1.0                           \n",
      "               batch_size: 1                             \n",
      "          checkpoints_dir: ./checkpoints                 \n",
      "                crop_size: 256                           \n",
      "                 dataroot: ./datasets/eleven-test        \t[default: None]\n",
      "             dataset_mode: aligned                       \n",
      "                direction: BtoA                          \t[default: AtoB]\n",
      "          display_winsize: 256                           \n",
      "                    epoch: latest                        \n",
      "                     eval: False                         \n",
      "                  gpu_ids: 0                             \n",
      "                init_gain: 0.02                          \n",
      "                init_type: normal                        \n",
      "                 input_nc: 3                             \n",
      "                  isTrain: False                         \t[default: None]\n",
      "                load_iter: 0                             \t[default: 0]\n",
      "                load_size: 256                           \n",
      "         max_dataset_size: inf                           \n",
      "                    model: pix2pix                       \t[default: test]\n",
      "               n_layers_D: 3                             \n",
      "                     name: edges2shoes_pretrained        \t[default: experiment_name]\n",
      "                      ndf: 64                            \n",
      "                     netD: basic                         \n",
      "                     netG: unet_256                      \n",
      "                      ngf: 64                            \n",
      "               no_dropout: False                         \n",
      "                  no_flip: False                         \n",
      "                     norm: batch                         \n",
      "                 num_test: 50                            \n",
      "              num_threads: 4                             \n",
      "                output_nc: 3                             \n",
      "                    phase: test                          \n",
      "               preprocess: resize_and_crop               \n",
      "              results_dir: ./results/                    \n",
      "           serial_batches: False                         \n",
      "                   suffix:                               \n",
      "                use_wandb: True                          \t[default: False]\n",
      "                  verbose: False                         \n",
      "       wandb_project_name: CycleGAN-and-pix2pix          \n",
      "----------------- End -------------------\n"
     ]
    },
    {
     "name": "stderr",
     "output_type": "stream",
     "text": [
      "Traceback (most recent call last):\n",
      "  File \"c:\\Users\\10133\\OneDrive\\문서\\GitHub\\opensw23-eleven\\pytorch-CycleGAN-and-pix2pix-master\\test.py\", line 43, in <module>\n",
      "    opt = TestOptions().parse()  # get test options\n",
      "  File \"c:\\Users\\10133\\OneDrive\\문서\\GitHub\\opensw23-eleven\\pytorch-CycleGAN-and-pix2pix-master\\options\\base_options.py\", line 136, in parse\n",
      "    torch.cuda.set_device(opt.gpu_ids[0])\n",
      "  File \"C:\\Users\\10133\\AppData\\Local\\Packages\\PythonSoftwareFoundation.Python.3.10_qbz5n2kfra8p0\\LocalCache\\local-packages\\Python310\\site-packages\\torch\\cuda\\__init__.py\", line 350, in set_device\n",
      "    torch._C._cuda_setDevice(device)\n",
      "AttributeError: module 'torch._C' has no attribute '_cuda_setDevice'\n"
     ]
    }
   ],
   "source": [
    "!python pytorch-CycleGAN-and-pix2pix-master/test.py --dataroot ./datasets/eleven-test --direction BtoA --model pix2pix --name edges2shoes_pretrained --use_wandb"
   ]
  },
  {
   "attachments": {},
   "cell_type": "markdown",
   "metadata": {
    "colab_type": "text",
    "id": "OzSKIPUByfiN"
   },
   "source": [
    "# Visualize"
   ]
  },
  {
   "cell_type": "code",
   "execution_count": null,
   "metadata": {
    "colab": {},
    "colab_type": "code",
    "id": "9Mgg8raPyizq"
   },
   "outputs": [],
   "source": [
    "import matplotlib.pyplot as plt\n",
    "\n",
    "img = plt.imread('./results/facades_label2photo_pretrained/test_latest/images/100_fake_B.png')\n",
    "plt.imshow(img)"
   ]
  },
  {
   "cell_type": "code",
   "execution_count": null,
   "metadata": {
    "colab": {},
    "colab_type": "code",
    "id": "0G3oVH9DyqLQ"
   },
   "outputs": [],
   "source": [
    "img = plt.imread('./results/facades_label2photo_pretrained/test_latest/images/100_real_A.png')\n",
    "plt.imshow(img)"
   ]
  },
  {
   "cell_type": "code",
   "execution_count": null,
   "metadata": {
    "colab": {},
    "colab_type": "code",
    "id": "ErK5OC1j1LH4"
   },
   "outputs": [],
   "source": [
    "img = plt.imread('./results/facades_label2photo_pretrained/test_latest/images/100_real_B.png')\n",
    "plt.imshow(img)"
   ]
  }
 ],
 "metadata": {
  "accelerator": "GPU",
  "colab": {
   "collapsed_sections": [],
   "include_colab_link": true,
   "name": "pix2pix",
   "provenance": []
  },
  "environment": {
   "name": "tf2-gpu.2-3.m74",
   "type": "gcloud",
   "uri": "gcr.io/deeplearning-platform-release/tf2-gpu.2-3:m74"
  },
  "kernelspec": {
   "display_name": "Python 3",
   "language": "python",
   "name": "python3"
  },
  "language_info": {
   "codemirror_mode": {
    "name": "ipython",
    "version": 3
   },
   "file_extension": ".py",
   "mimetype": "text/x-python",
   "name": "python",
   "nbconvert_exporter": "python",
   "pygments_lexer": "ipython3",
   "version": "3.10.11"
  }
 },
 "nbformat": 4,
 "nbformat_minor": 4
}
