{
 "cells": [
  {
   "attachments": {},
   "cell_type": "markdown",
   "metadata": {
    "colab_type": "text",
    "id": "view-in-github"
   },
   "source": [
    "<a href=\"https://colab.research.google.com/github/bkkaggle/pytorch-CycleGAN-and-pix2pix/blob/master/pix2pix.ipynb\" target=\"_parent\"><img src=\"https://colab.research.google.com/assets/colab-badge.svg\" alt=\"Open In Colab\"/></a>"
   ]
  },
  {
   "attachments": {},
   "cell_type": "markdown",
   "metadata": {
    "colab_type": "text",
    "id": "7wNjDKdQy35h"
   },
   "source": [
    "# Install"
   ]
  },
  {
   "cell_type": "code",
   "execution_count": 1,
   "metadata": {
    "colab": {},
    "colab_type": "code",
    "id": "z1EySlOXwwoa"
   },
   "outputs": [
    {
     "name": "stdout",
     "output_type": "stream",
     "text": [
      "Requirement already satisfied: torch>=1.3.0 in c:\\users\\10133\\appdata\\local\\programs\\python\\python311\\lib\\site-packages (from -r pytorch-CycleGAN-and-pix2pix-master/requirements.txt (line 1)) (2.0.1)\n",
      "Requirement already satisfied: torchvision>=0.4.2 in c:\\users\\10133\\appdata\\local\\programs\\python\\python311\\lib\\site-packages (from -r pytorch-CycleGAN-and-pix2pix-master/requirements.txt (line 2)) (0.15.2)\n",
      "Requirement already satisfied: dominate>=2.4.0 in c:\\users\\10133\\appdata\\local\\programs\\python\\python311\\lib\\site-packages (from -r pytorch-CycleGAN-and-pix2pix-master/requirements.txt (line 3)) (2.8.0)\n",
      "Requirement already satisfied: visdom>=0.1.8.8 in c:\\users\\10133\\appdata\\local\\programs\\python\\python311\\lib\\site-packages (from -r pytorch-CycleGAN-and-pix2pix-master/requirements.txt (line 4)) (0.2.4)\n",
      "Requirement already satisfied: wandb in c:\\users\\10133\\appdata\\local\\programs\\python\\python311\\lib\\site-packages (from -r pytorch-CycleGAN-and-pix2pix-master/requirements.txt (line 5)) (0.15.3)\n",
      "Requirement already satisfied: filelock in c:\\users\\10133\\appdata\\local\\programs\\python\\python311\\lib\\site-packages (from torch>=1.3.0->-r pytorch-CycleGAN-and-pix2pix-master/requirements.txt (line 1)) (3.12.0)\n",
      "Requirement already satisfied: typing-extensions in c:\\users\\10133\\appdata\\local\\programs\\python\\python311\\lib\\site-packages (from torch>=1.3.0->-r pytorch-CycleGAN-and-pix2pix-master/requirements.txt (line 1)) (4.6.2)\n",
      "Requirement already satisfied: sympy in c:\\users\\10133\\appdata\\local\\programs\\python\\python311\\lib\\site-packages (from torch>=1.3.0->-r pytorch-CycleGAN-and-pix2pix-master/requirements.txt (line 1)) (1.12)\n",
      "Requirement already satisfied: networkx in c:\\users\\10133\\appdata\\local\\programs\\python\\python311\\lib\\site-packages (from torch>=1.3.0->-r pytorch-CycleGAN-and-pix2pix-master/requirements.txt (line 1)) (3.1)\n",
      "Requirement already satisfied: jinja2 in c:\\users\\10133\\appdata\\local\\programs\\python\\python311\\lib\\site-packages (from torch>=1.3.0->-r pytorch-CycleGAN-and-pix2pix-master/requirements.txt (line 1)) (3.1.2)\n",
      "Requirement already satisfied: numpy in c:\\users\\10133\\appdata\\local\\programs\\python\\python311\\lib\\site-packages (from torchvision>=0.4.2->-r pytorch-CycleGAN-and-pix2pix-master/requirements.txt (line 2)) (1.24.3)\n",
      "Requirement already satisfied: requests in c:\\users\\10133\\appdata\\local\\programs\\python\\python311\\lib\\site-packages (from torchvision>=0.4.2->-r pytorch-CycleGAN-and-pix2pix-master/requirements.txt (line 2)) (2.29.0)\n",
      "Requirement already satisfied: pillow!=8.3.*,>=5.3.0 in c:\\users\\10133\\appdata\\local\\programs\\python\\python311\\lib\\site-packages (from torchvision>=0.4.2->-r pytorch-CycleGAN-and-pix2pix-master/requirements.txt (line 2)) (9.5.0)\n",
      "Requirement already satisfied: scipy in c:\\users\\10133\\appdata\\local\\programs\\python\\python311\\lib\\site-packages (from visdom>=0.1.8.8->-r pytorch-CycleGAN-and-pix2pix-master/requirements.txt (line 4)) (1.10.1)\n",
      "Requirement already satisfied: tornado in c:\\users\\10133\\appdata\\local\\programs\\python\\python311\\lib\\site-packages (from visdom>=0.1.8.8->-r pytorch-CycleGAN-and-pix2pix-master/requirements.txt (line 4)) (6.3.1)\n",
      "Requirement already satisfied: six in c:\\users\\10133\\appdata\\local\\programs\\python\\python311\\lib\\site-packages (from visdom>=0.1.8.8->-r pytorch-CycleGAN-and-pix2pix-master/requirements.txt (line 4)) (1.16.0)\n",
      "Requirement already satisfied: jsonpatch in c:\\users\\10133\\appdata\\local\\programs\\python\\python311\\lib\\site-packages (from visdom>=0.1.8.8->-r pytorch-CycleGAN-and-pix2pix-master/requirements.txt (line 4)) (1.32)\n",
      "Requirement already satisfied: websocket-client in c:\\users\\10133\\appdata\\local\\programs\\python\\python311\\lib\\site-packages (from visdom>=0.1.8.8->-r pytorch-CycleGAN-and-pix2pix-master/requirements.txt (line 4)) (1.5.1)\n",
      "Requirement already satisfied: Click!=8.0.0,>=7.0 in c:\\users\\10133\\appdata\\local\\programs\\python\\python311\\lib\\site-packages (from wandb->-r pytorch-CycleGAN-and-pix2pix-master/requirements.txt (line 5)) (8.1.3)\n",
      "Requirement already satisfied: GitPython!=3.1.29,>=1.0.0 in c:\\users\\10133\\appdata\\local\\programs\\python\\python311\\lib\\site-packages (from wandb->-r pytorch-CycleGAN-and-pix2pix-master/requirements.txt (line 5)) (3.1.31)\n",
      "Requirement already satisfied: psutil>=5.0.0 in c:\\users\\10133\\appdata\\local\\programs\\python\\python311\\lib\\site-packages (from wandb->-r pytorch-CycleGAN-and-pix2pix-master/requirements.txt (line 5)) (5.9.5)\n",
      "Requirement already satisfied: sentry-sdk>=1.0.0 in c:\\users\\10133\\appdata\\local\\programs\\python\\python311\\lib\\site-packages (from wandb->-r pytorch-CycleGAN-and-pix2pix-master/requirements.txt (line 5)) (1.24.0)\n",
      "Requirement already satisfied: docker-pycreds>=0.4.0 in c:\\users\\10133\\appdata\\local\\programs\\python\\python311\\lib\\site-packages (from wandb->-r pytorch-CycleGAN-and-pix2pix-master/requirements.txt (line 5)) (0.4.0)\n",
      "Requirement already satisfied: PyYAML in c:\\users\\10133\\appdata\\local\\programs\\python\\python311\\lib\\site-packages (from wandb->-r pytorch-CycleGAN-and-pix2pix-master/requirements.txt (line 5)) (6.0)\n",
      "Requirement already satisfied: pathtools in c:\\users\\10133\\appdata\\local\\programs\\python\\python311\\lib\\site-packages (from wandb->-r pytorch-CycleGAN-and-pix2pix-master/requirements.txt (line 5)) (0.1.2)\n",
      "Requirement already satisfied: setproctitle in c:\\users\\10133\\appdata\\local\\programs\\python\\python311\\lib\\site-packages (from wandb->-r pytorch-CycleGAN-and-pix2pix-master/requirements.txt (line 5)) (1.3.2)\n",
      "Requirement already satisfied: setuptools in c:\\users\\10133\\appdata\\local\\programs\\python\\python311\\lib\\site-packages (from wandb->-r pytorch-CycleGAN-and-pix2pix-master/requirements.txt (line 5)) (65.5.0)\n",
      "Requirement already satisfied: appdirs>=1.4.3 in c:\\users\\10133\\appdata\\local\\programs\\python\\python311\\lib\\site-packages (from wandb->-r pytorch-CycleGAN-and-pix2pix-master/requirements.txt (line 5)) (1.4.4)\n",
      "Requirement already satisfied: protobuf!=4.21.0,<5,>=3.19.0 in c:\\users\\10133\\appdata\\local\\programs\\python\\python311\\lib\\site-packages (from wandb->-r pytorch-CycleGAN-and-pix2pix-master/requirements.txt (line 5)) (4.23.2)\n",
      "Requirement already satisfied: colorama in c:\\users\\10133\\appdata\\local\\programs\\python\\python311\\lib\\site-packages (from Click!=8.0.0,>=7.0->wandb->-r pytorch-CycleGAN-and-pix2pix-master/requirements.txt (line 5)) (0.4.6)\n",
      "Requirement already satisfied: gitdb<5,>=4.0.1 in c:\\users\\10133\\appdata\\local\\programs\\python\\python311\\lib\\site-packages (from GitPython!=3.1.29,>=1.0.0->wandb->-r pytorch-CycleGAN-and-pix2pix-master/requirements.txt (line 5)) (4.0.10)\n",
      "Requirement already satisfied: charset-normalizer<4,>=2 in c:\\users\\10133\\appdata\\local\\programs\\python\\python311\\lib\\site-packages (from requests->torchvision>=0.4.2->-r pytorch-CycleGAN-and-pix2pix-master/requirements.txt (line 2)) (3.1.0)\n",
      "Requirement already satisfied: idna<4,>=2.5 in c:\\users\\10133\\appdata\\local\\programs\\python\\python311\\lib\\site-packages (from requests->torchvision>=0.4.2->-r pytorch-CycleGAN-and-pix2pix-master/requirements.txt (line 2)) (3.4)\n",
      "Requirement already satisfied: urllib3<1.27,>=1.21.1 in c:\\users\\10133\\appdata\\local\\programs\\python\\python311\\lib\\site-packages (from requests->torchvision>=0.4.2->-r pytorch-CycleGAN-and-pix2pix-master/requirements.txt (line 2)) (1.26.15)\n",
      "Requirement already satisfied: certifi>=2017.4.17 in c:\\users\\10133\\appdata\\local\\programs\\python\\python311\\lib\\site-packages (from requests->torchvision>=0.4.2->-r pytorch-CycleGAN-and-pix2pix-master/requirements.txt (line 2)) (2022.12.7)\n",
      "Requirement already satisfied: MarkupSafe>=2.0 in c:\\users\\10133\\appdata\\local\\programs\\python\\python311\\lib\\site-packages (from jinja2->torch>=1.3.0->-r pytorch-CycleGAN-and-pix2pix-master/requirements.txt (line 1)) (2.1.2)\n",
      "Requirement already satisfied: jsonpointer>=1.9 in c:\\users\\10133\\appdata\\local\\programs\\python\\python311\\lib\\site-packages (from jsonpatch->visdom>=0.1.8.8->-r pytorch-CycleGAN-and-pix2pix-master/requirements.txt (line 4)) (2.3)\n",
      "Requirement already satisfied: mpmath>=0.19 in c:\\users\\10133\\appdata\\local\\programs\\python\\python311\\lib\\site-packages (from sympy->torch>=1.3.0->-r pytorch-CycleGAN-and-pix2pix-master/requirements.txt (line 1)) (1.3.0)\n",
      "Requirement already satisfied: smmap<6,>=3.0.1 in c:\\users\\10133\\appdata\\local\\programs\\python\\python311\\lib\\site-packages (from gitdb<5,>=4.0.1->GitPython!=3.1.29,>=1.0.0->wandb->-r pytorch-CycleGAN-and-pix2pix-master/requirements.txt (line 5)) (5.0.0)\n"
     ]
    },
    {
     "name": "stderr",
     "output_type": "stream",
     "text": [
      "\n",
      "[notice] A new release of pip is available: 23.1.1 -> 23.1.2\n",
      "[notice] To update, run: python.exe -m pip install --upgrade pip\n"
     ]
    }
   ],
   "source": [
    "!pip install -r pytorch-CycleGAN-and-pix2pix-master/requirements.txt"
   ]
  },
  {
   "cell_type": "code",
   "execution_count": 2,
   "metadata": {},
   "outputs": [],
   "source": [
    "import os\n",
    "os.chdir(\"pytorch-CycleGAN-and-pix2pix-master\")"
   ]
  },
  {
   "attachments": {},
   "cell_type": "markdown",
   "metadata": {
    "colab_type": "text",
    "id": "9UkcaFZiyASl"
   },
   "source": [
    "# Testing\n",
    "\n",
    "-   `python test.py --dataroot ./datasets/facades --direction BtoA --model pix2pix --name facades_pix2pix`\n",
    "\n",
    "Change the `--dataroot`, `--name`, and `--direction` to be consistent with your trained model's configuration and how you want to transform images.\n",
    "\n",
    "> from https://github.com/junyanz/pytorch-CycleGAN-and-pix2pix:\n",
    "> Note that we specified --direction BtoA as Facades dataset's A to B direction is photos to labels.\n",
    "\n",
    "> If you would like to apply a pre-trained model to a collection of input images (rather than image pairs), please use --model test option. See ./scripts/test_single.sh for how to apply a model to Facade label maps (stored in the directory facades/testB).\n",
    "\n",
    "> See a list of currently available models at ./scripts/download_pix2pix_model.sh"
   ]
  },
  {
   "cell_type": "code",
   "execution_count": 4,
   "metadata": {
    "colab": {},
    "colab_type": "code",
    "id": "uCsKkEq0yGh0"
   },
   "outputs": [
    {
     "name": "stdout",
     "output_type": "stream",
     "text": [
      "----------------- Options ---------------\n",
      "             aspect_ratio: 1.0                           \n",
      "               batch_size: 1                             \n",
      "          checkpoints_dir: ./checkpoints                 \n",
      "                crop_size: 256                           \n",
      "                 dataroot: datasets/elevenTest           \t[default: None]\n",
      "             dataset_mode: aligned                       \n",
      "                direction: BtoA                          \t[default: AtoB]\n",
      "          display_winsize: 256                           \n",
      "                    epoch: latest                        \n",
      "                     eval: False                         \n",
      "                  gpu_ids: -1                            \t[default: 0]\n",
      "                init_gain: 0.02                          \n",
      "                init_type: normal                        \n",
      "                 input_nc: 3                             \n",
      "                  isTrain: False                         \t[default: None]\n",
      "                load_iter: 0                             \t[default: 0]\n",
      "                load_size: 256                           \n",
      "         max_dataset_size: inf                           \n",
      "                    model: pix2pix                       \t[default: test]\n",
      "               n_layers_D: 3                             \n",
      "                     name: edges2shoes_pretrained        \t[default: experiment_name]\n",
      "                      ndf: 64                            \n",
      "                     netD: basic                         \n",
      "                     netG: unet_256                      \n",
      "                      ngf: 64                            \n",
      "               no_dropout: False                         \n",
      "                  no_flip: False                         \n",
      "                     norm: batch                         \n",
      "                 num_test: 50                            \n",
      "              num_threads: 4                             \n",
      "                output_nc: 3                             \n",
      "                    phase: test                          \n",
      "               preprocess: resize_and_crop               \n",
      "              results_dir: ./results/                    \n",
      "           serial_batches: False                         \n",
      "                   suffix:                               \n",
      "                use_wandb: False                         \n",
      "                  verbose: False                         \n",
      "       wandb_project_name: CycleGAN-and-pix2pix          \n",
      "----------------- End -------------------\n",
      "dataset [AlignedDataset] was created\n",
      "initialize network with normal\n",
      "model [Pix2PixModel] was created\n",
      "loading the model from ./checkpoints\\edges2shoes_pretrained\\latest_net_G.pth\n",
      "---------- Networks initialized -------------\n",
      "[Network G] Total number of parameters : 54.414 M\n",
      "-----------------------------------------------\n",
      "creating web directory ./results/edges2shoes_pretrained\\test_latest\n",
      "processing (0000)-th image... ['datasets/elevenTest\\\\test\\\\test.jpg']\n"
     ]
    }
   ],
   "source": [
    "!python test.py --dataroot datasets/elevenTest --direction BtoA --model pix2pix --name edges2shoes_pretrained --gpu_ids -1"
   ]
  },
  {
   "cell_type": "code",
   "execution_count": null,
   "metadata": {},
   "outputs": [],
   "source": []
  }
 ],
 "metadata": {
  "accelerator": "GPU",
  "colab": {
   "collapsed_sections": [],
   "include_colab_link": true,
   "name": "pix2pix",
   "provenance": []
  },
  "environment": {
   "name": "tf2-gpu.2-3.m74",
   "type": "gcloud",
   "uri": "gcr.io/deeplearning-platform-release/tf2-gpu.2-3:m74"
  },
  "kernelspec": {
   "display_name": "Python 3",
   "language": "python",
   "name": "python3"
  },
  "language_info": {
   "codemirror_mode": {
    "name": "ipython",
    "version": 3
   },
   "file_extension": ".py",
   "mimetype": "text/x-python",
   "name": "python",
   "nbconvert_exporter": "python",
   "pygments_lexer": "ipython3",
   "version": "3.11.3"
  }
 },
 "nbformat": 4,
 "nbformat_minor": 4
}
